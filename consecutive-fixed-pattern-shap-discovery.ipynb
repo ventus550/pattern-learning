{
 "cells": [
  {
   "cell_type": "code",
   "execution_count": 5,
   "metadata": {},
   "outputs": [
    {
     "name": "stderr",
     "output_type": "stream",
     "text": [
      "Seed set to 97335\n"
     ]
    },
    {
     "name": "stdout",
     "output_type": "stream",
     "text": [
      "Device set to cuda\n"
     ]
    }
   ],
   "source": [
    "from utils import configure_environment\n",
    "configure_environment()"
   ]
  },
  {
   "cell_type": "code",
   "execution_count": null,
   "metadata": {},
   "outputs": [],
   "source": [
    "import torch\n",
    "import numpy as np\n",
    "import random\n",
    "from callbacks import LogBinaryDiscoveryData\n",
    "from models import BinaryLSTMClassifier, BinaryConvolutionalClassifier"
   ]
  },
  {
   "cell_type": "markdown",
   "metadata": {},
   "source": [
    "# Data synthesis"
   ]
  },
  {
   "cell_type": "code",
   "execution_count": 7,
   "metadata": {},
   "outputs": [],
   "source": [
    "pattern = [0, 0, 1, 1, 0, 0]\n",
    "length = 32\n",
    "\n",
    "def pattern_discrimination_data_generator(batch_size=64, low=length, high=length):\n",
    "    strptr = str(np.array(pattern))[1:-1]\n",
    "    X = np.random.randint(0, 2, (batch_size, random.randint(low, high)))\n",
    "    Y = torch.tensor([strptr in str(x) for x in X])\n",
    "    return torch.tensor(X), Y"
   ]
  },
  {
   "cell_type": "markdown",
   "metadata": {},
   "source": [
    "## LSTMs"
   ]
  },
  {
   "cell_type": "code",
   "execution_count": 8,
   "metadata": {},
   "outputs": [
    {
     "name": "stdout",
     "output_type": "stream",
     "text": [
      "4900            accuracy:\t0.625            \t\t1 1 1 1 1 0 0 0 1 1 1 1 0 \u001b[1m\u001b[33m0\u001b[0m 1 1 0 \u001b[1m\u001b[33m0\u001b[0m 1 0 1 0 \u001b[1m\u001b[33m0\u001b[0m \u001b[1m\u001b[33m0\u001b[0m \u001b[1m\u001b[33m0\u001b[0m 1 1 1 0 0 1 \u001b[1m\u001b[33m0\u001b[0m \n",
      "4800            accuracy:\t0.71875          \t\t1 \u001b[1m\u001b[33m0\u001b[0m 1 1 1 1 1 1 \u001b[1m\u001b[33m0\u001b[0m \u001b[1m\u001b[33m0\u001b[0m \u001b[1m\u001b[33m0\u001b[0m \u001b[1m\u001b[33m0\u001b[0m \u001b[1m\u001b[33m0\u001b[0m 1 1 1 0 1 1 0 1 1 0 0 0 1 1 0 0 0 1 1 \n",
      "4700            accuracy:\t0.640625         \t\t1 0 \u001b[1m\u001b[33m0\u001b[0m 1 1 1 \u001b[1m\u001b[33m0\u001b[0m 0 0 1 \u001b[1m\u001b[33m0\u001b[0m 1 0 \u001b[1m\u001b[33m0\u001b[0m 1 \u001b[1m\u001b[33m0\u001b[0m 1 \u001b[1m\u001b[33m0\u001b[0m 0 0 1 0 1 0 0 1 1 0 0 0 1 1 \n",
      "4600            accuracy:\t0.640625         \t\t0 0 1 1 1 1 0 0 \u001b[1m\u001b[33m0\u001b[0m 1 1 0 \u001b[1m\u001b[33m0\u001b[0m 1 1 1 1 1 \u001b[1m\u001b[33m0\u001b[0m 1 \u001b[1m\u001b[33m0\u001b[0m \u001b[1m\u001b[33m0\u001b[0m 1 0 0 \u001b[1m\u001b[33m0\u001b[0m 0 0 0 1 1 1 \n",
      "4500            accuracy:\t0.59375          \t\t0 0 0 1 0 0 0 1 0 0 0 1 1 0 0 0 1 1 1 1 1 \u001b[1m\u001b[33m0\u001b[0m \u001b[1m\u001b[33m0\u001b[0m \u001b[1m\u001b[33m0\u001b[0m \u001b[1m\u001b[33m0\u001b[0m 1 \u001b[1m\u001b[33m0\u001b[0m 1 \u001b[1m\u001b[33m0\u001b[0m 1 1 1 \n",
      "4400            accuracy:\t0.671875         \t\t0 1 1 0 0 0 1 0 1 1 1 1 \u001b[1m\u001b[33m0\u001b[0m 1 1 \u001b[1m\u001b[33m0\u001b[0m 0 0 1 \u001b[1m\u001b[33m0\u001b[0m \u001b[1m\u001b[33m0\u001b[0m 1 1 \u001b[1m\u001b[33m0\u001b[0m 0 1 0 1 \u001b[1m\u001b[33m0\u001b[0m 1 1 0 \n",
      "4300            accuracy:\t0.671875         \t\t0 1 0 1 1 1 0 0 0 0 0 1 1 0 \u001b[1m\u001b[33m0\u001b[0m 1 \u001b[1m\u001b[33m0\u001b[0m \u001b[1m\u001b[33m0\u001b[0m 1 \u001b[1m\u001b[33m0\u001b[0m 0 0 1 1 1 \u001b[1m\u001b[33m0\u001b[0m \u001b[1m\u001b[33m0\u001b[0m 1 0 1 1 0 \n",
      "4200            accuracy:\t0.625            \t\t0 1 1 0 0 0 0 1 0 0 0 0 1 1 \u001b[1m\u001b[33m0\u001b[0m 0 1 1 \u001b[1m\u001b[33m0\u001b[0m \u001b[1m\u001b[33m0\u001b[0m 1 \u001b[1m\u001b[33m0\u001b[0m 0 1 \u001b[1m\u001b[33m0\u001b[0m \u001b[1m\u001b[33m0\u001b[0m 1 1 0 0 0 1 \n",
      "4100            accuracy:\t0.671875         \t\t1 0 1 0 0 1 1 0 1 0 1 0 0 1 1 \u001b[1m\u001b[33m0\u001b[0m \u001b[1m\u001b[33m0\u001b[0m \u001b[1m\u001b[33m0\u001b[0m 1 1 1 1 \u001b[1m\u001b[33m0\u001b[0m \u001b[1m\u001b[33m0\u001b[0m \u001b[1m\u001b[33m0\u001b[0m 1 0 1 0 1 1 0 \n",
      "4000            accuracy:\t0.65625          \t\t1 0 0 0 1 1 0 0 0 1 \u001b[1m\u001b[33m0\u001b[0m 1 \u001b[1m\u001b[33m0\u001b[0m 1 1 1 1 1 0 \u001b[1m\u001b[33m0\u001b[0m 1 \u001b[1m\u001b[33m0\u001b[0m \u001b[1m\u001b[33m0\u001b[0m 1 1 \u001b[1m\u001b[33m0\u001b[0m 0 1 1 0 1 0 \n",
      "3900            accuracy:\t0.703125         \t\t0 1 0 1 0 1 \u001b[1m\u001b[33m0\u001b[0m 0 \u001b[1m\u001b[33m0\u001b[0m 1 1 0 0 0 0 \u001b[1m\u001b[33m1\u001b[0m 0 0 0 1 0 \u001b[1m\u001b[33m0\u001b[0m 1 \u001b[1m\u001b[33m0\u001b[0m \u001b[1m\u001b[33m0\u001b[0m 1 1 1 1 0 0 0 \n",
      "3800            accuracy:\t0.640625         \t\t0 1 1 0 0 1 0 1 1 \u001b[1m\u001b[33m0\u001b[0m 1 \u001b[1m\u001b[33m0\u001b[0m \u001b[1m\u001b[33m0\u001b[0m \u001b[1m\u001b[33m0\u001b[0m 1 1 \u001b[1m\u001b[33m0\u001b[0m 0 0 1 0 \u001b[1m\u001b[33m0\u001b[0m 1 1 1 1 1 1 0 1 1 0 \n",
      "3700            accuracy:\t0.703125         \t\t0 0 0 0 1 0 0 0 0 1 1 \u001b[1m\u001b[33m0\u001b[0m \u001b[1m\u001b[33m0\u001b[0m \u001b[1m\u001b[33m0\u001b[0m 1 1 \u001b[1m\u001b[33m0\u001b[0m \u001b[1m\u001b[33m0\u001b[0m 1 1 \u001b[1m\u001b[33m0\u001b[0m 1 0 0 0 0 0 1 0 0 1 0 \n",
      "3600            accuracy:\t1.0              \t\t0 1 0 0 \u001b[1m\u001b[33m0\u001b[0m \u001b[1m\u001b[33m0\u001b[0m \u001b[1m\u001b[33m1\u001b[0m \u001b[1m\u001b[33m1\u001b[0m \u001b[1m\u001b[33m0\u001b[0m \u001b[1m\u001b[33m0\u001b[0m 1 0 0 1 0 0 0 0 1 1 1 1 1 0 1 1 0 0 1 0 0 1 \n",
      "3500            accuracy:\t1.0              \t\t1 1 0 1 0 1 0 1 1 0 0 0 0 1 0 0 0 0 1 1 1 \u001b[1m\u001b[33m0\u001b[0m \u001b[1m\u001b[33m0\u001b[0m \u001b[1m\u001b[33m1\u001b[0m \u001b[1m\u001b[33m1\u001b[0m \u001b[1m\u001b[33m0\u001b[0m \u001b[1m\u001b[33m0\u001b[0m 0 1 1 0 1 \n",
      "3400            accuracy:\t1.0              \t\t1 1 0 1 1 0 1 0 1 1 0 0 1 1 1 1 0 1 1 0 \u001b[1m\u001b[33m0\u001b[0m 1 0 1 \u001b[1m\u001b[33m0\u001b[0m \u001b[1m\u001b[33m0\u001b[0m \u001b[1m\u001b[33m1\u001b[0m \u001b[1m\u001b[33m1\u001b[0m 0 \u001b[1m\u001b[33m0\u001b[0m 0 1 \n",
      "3300            accuracy:\t1.0              \t\t1 1 1 0 1 0 \u001b[1m\u001b[33m0\u001b[0m \u001b[1m\u001b[33m0\u001b[0m \u001b[1m\u001b[33m1\u001b[0m \u001b[1m\u001b[33m1\u001b[0m \u001b[1m\u001b[33m0\u001b[0m \u001b[1m\u001b[33m0\u001b[0m 1 0 1 0 1 1 0 1 1 0 1 0 1 0 1 1 1 0 0 1 \n",
      "3200            accuracy:\t1.0              \t\t0 \u001b[1m\u001b[33m0\u001b[0m \u001b[1m\u001b[33m0\u001b[0m \u001b[1m\u001b[33m1\u001b[0m \u001b[1m\u001b[33m1\u001b[0m \u001b[1m\u001b[33m0\u001b[0m \u001b[1m\u001b[33m0\u001b[0m 1 0 1 1 0 0 0 0 1 1 1 0 1 0 1 0 1 0 1 1 0 1 1 0 1 \n",
      "3100            accuracy:\t1.0              \t\t1 0 1 0 1 1 \u001b[1m\u001b[33m0\u001b[0m 1 1 0 0 0 0 1 1 1 1 0 1 0 1 1 1 1 0 \u001b[1m\u001b[33m0\u001b[0m \u001b[1m\u001b[33m0\u001b[0m \u001b[1m\u001b[33m1\u001b[0m 1 \u001b[1m\u001b[33m0\u001b[0m \u001b[1m\u001b[33m0\u001b[0m 0 \n",
      "3000            accuracy:\t1.0              \t\t1 0 1 1 0 0 0 1 0 1 1 1 1 1 0 1 0 0 0 \u001b[1m\u001b[33m0\u001b[0m \u001b[1m\u001b[33m0\u001b[0m \u001b[1m\u001b[33m1\u001b[0m \u001b[1m\u001b[33m1\u001b[0m \u001b[1m\u001b[33m0\u001b[0m \u001b[1m\u001b[33m0\u001b[0m 1 1 0 1 0 0 1 \n",
      "2900            accuracy:\t1.0              \t\t0 1 0 1 1 0 1 0 0 1 0 0 \u001b[1m\u001b[33m0\u001b[0m \u001b[1m\u001b[33m1\u001b[0m 1 \u001b[1m\u001b[33m0\u001b[0m \u001b[1m\u001b[33m0\u001b[0m 1 1 \u001b[1m\u001b[33m0\u001b[0m \u001b[1m\u001b[33m0\u001b[0m 1 0 0 1 1 1 0 1 0 0 0 \n",
      "2800            accuracy:\t1.0              \t\t0 \u001b[1m\u001b[33m0\u001b[0m 0 1 \u001b[1m\u001b[33m1\u001b[0m 0 \u001b[1m\u001b[33m0\u001b[0m 1 1 1 0 1 \u001b[1m\u001b[33m0\u001b[0m \u001b[1m\u001b[33m0\u001b[0m \u001b[1m\u001b[33m1\u001b[0m 1 0 0 1 0 0 0 1 0 1 0 1 0 0 1 1 1 \n",
      "2700            accuracy:\t1.0              \t\t0 1 1 1 0 1 \u001b[1m\u001b[33m0\u001b[0m \u001b[1m\u001b[33m0\u001b[0m \u001b[1m\u001b[33m1\u001b[0m \u001b[1m\u001b[33m1\u001b[0m \u001b[1m\u001b[33m0\u001b[0m \u001b[1m\u001b[33m0\u001b[0m 1 0 1 1 1 1 0 0 1 0 0 0 0 1 0 0 0 0 0 0 \n",
      "2600            accuracy:\t1.0              \t\t0 0 0 0 \u001b[1m\u001b[33m0\u001b[0m 0 \u001b[1m\u001b[33m1\u001b[0m \u001b[1m\u001b[33m1\u001b[0m \u001b[1m\u001b[33m0\u001b[0m \u001b[1m\u001b[33m0\u001b[0m 0 1 1 1 \u001b[1m\u001b[33m0\u001b[0m 0 1 1 1 0 1 1 0 1 1 0 1 1 0 1 1 1 \n",
      "2500            accuracy:\t1.0              \t\t0 0 1 1 1 1 0 1 0 1 \u001b[1m\u001b[33m0\u001b[0m \u001b[1m\u001b[33m0\u001b[0m \u001b[1m\u001b[33m1\u001b[0m \u001b[1m\u001b[33m1\u001b[0m \u001b[1m\u001b[33m0\u001b[0m \u001b[1m\u001b[33m0\u001b[0m 0 0 1 0 0 1 1 0 1 1 1 1 0 1 1 0 \n",
      "2400            accuracy:\t1.0              \t\t1 1 0 1 1 0 1 1 1 1 1 1 1 0 0 1 0 1 1 0 1 \u001b[1m\u001b[33m0\u001b[0m \u001b[1m\u001b[33m0\u001b[0m \u001b[1m\u001b[33m1\u001b[0m \u001b[1m\u001b[33m1\u001b[0m \u001b[1m\u001b[33m0\u001b[0m \u001b[1m\u001b[33m0\u001b[0m 0 0 0 0 1 \n",
      "2300            accuracy:\t1.0              \t\t1 1 1 0 0 1 0 0 1 1 1 1 1 1 0 0 1 0 1 0 1 1 1 1 \u001b[1m\u001b[33m0\u001b[0m \u001b[1m\u001b[33m0\u001b[0m \u001b[1m\u001b[33m1\u001b[0m \u001b[1m\u001b[33m1\u001b[0m \u001b[1m\u001b[33m0\u001b[0m \u001b[1m\u001b[33m0\u001b[0m 0 0 \n",
      "2200            accuracy:\t1.0              \t\t0 1 1 1 \u001b[1m\u001b[33m0\u001b[0m \u001b[1m\u001b[33m0\u001b[0m \u001b[1m\u001b[33m1\u001b[0m \u001b[1m\u001b[33m1\u001b[0m \u001b[1m\u001b[33m0\u001b[0m \u001b[1m\u001b[33m0\u001b[0m 0 1 0 0 1 1 1 1 0 1 1 0 0 1 0 1 1 1 1 1 0 1 \n",
      "2100            accuracy:\t1.0              \t\t0 0 0 0 0 1 0 0 1 0 0 1 1 0 1 \u001b[1m\u001b[33m0\u001b[0m \u001b[1m\u001b[33m0\u001b[0m \u001b[1m\u001b[33m1\u001b[0m \u001b[1m\u001b[33m1\u001b[0m \u001b[1m\u001b[33m0\u001b[0m \u001b[1m\u001b[33m0\u001b[0m 1 1 0 1 1 1 1 0 0 1 1 \n",
      "2000            accuracy:\t1.0              \t\t0 0 1 1 1 \u001b[1m\u001b[33m0\u001b[0m 0 0 0 1 1 0 1 0 1 1 0 \u001b[1m\u001b[33m0\u001b[0m \u001b[1m\u001b[33m0\u001b[0m \u001b[1m\u001b[33m1\u001b[0m \u001b[1m\u001b[33m1\u001b[0m 0 \u001b[1m\u001b[33m0\u001b[0m 1 0 1 1 0 1 0 0 1 \n",
      "1900            accuracy:\t1.0              \t\t0 1 1 1 1 0 0 1 0 0 1 0 1 0 1 1 1 \u001b[1m\u001b[33m0\u001b[0m \u001b[1m\u001b[33m0\u001b[0m \u001b[1m\u001b[33m1\u001b[0m \u001b[1m\u001b[33m1\u001b[0m \u001b[1m\u001b[33m0\u001b[0m \u001b[1m\u001b[33m0\u001b[0m 0 1 1 1 0 1 0 0 0 \n",
      "1800            accuracy:\t1.0              \t\t1 1 0 1 \u001b[1m\u001b[33m0\u001b[0m \u001b[1m\u001b[33m0\u001b[0m \u001b[1m\u001b[33m1\u001b[0m \u001b[1m\u001b[33m1\u001b[0m \u001b[1m\u001b[33m0\u001b[0m \u001b[1m\u001b[33m0\u001b[0m 0 1 0 0 1 1 0 1 0 0 1 0 1 1 0 1 0 1 1 1 1 0 \n",
      "1700            accuracy:\t1.0              \t\t1 0 1 0 0 0 0 0 0 0 0 \u001b[1m\u001b[33m0\u001b[0m \u001b[1m\u001b[33m0\u001b[0m \u001b[1m\u001b[33m1\u001b[0m \u001b[1m\u001b[33m1\u001b[0m \u001b[1m\u001b[33m0\u001b[0m \u001b[1m\u001b[33m0\u001b[0m 0 0 0 1 0 0 0 1 0 1 0 1 0 0 0 \n",
      "1600            accuracy:\t1.0              \t\t0 \u001b[1m\u001b[33m0\u001b[0m \u001b[1m\u001b[33m0\u001b[0m \u001b[1m\u001b[33m1\u001b[0m \u001b[1m\u001b[33m1\u001b[0m \u001b[1m\u001b[33m0\u001b[0m \u001b[1m\u001b[33m0\u001b[0m 1 0 1 0 0 0 1 1 1 0 1 1 0 0 1 0 1 0 1 0 1 1 1 1 1 \n",
      "1500            accuracy:\t1.0              \t\t0 0 1 1 1 1 1 0 0 1 \u001b[1m\u001b[33m1\u001b[0m \u001b[1m\u001b[33m0\u001b[0m \u001b[1m\u001b[33m0\u001b[0m 0 1 1 \u001b[1m\u001b[33m0\u001b[0m \u001b[1m\u001b[33m0\u001b[0m 1 1 0 \u001b[1m\u001b[33m0\u001b[0m 1 1 1 0 1 1 1 0 1 1 \n",
      "1400            accuracy:\t1.0              \t\t0 1 0 0 1 0 1 1 1 0 0 1 0 \u001b[1m\u001b[33m0\u001b[0m \u001b[1m\u001b[33m0\u001b[0m \u001b[1m\u001b[33m1\u001b[0m \u001b[1m\u001b[33m1\u001b[0m \u001b[1m\u001b[33m0\u001b[0m \u001b[1m\u001b[33m0\u001b[0m 0 1 0 1 0 0 0 1 1 1 1 0 0 \n",
      "1300            accuracy:\t0.984375         \t\t0 1 0 0 0 0 1 0 0 1 0 0 1 0 0 1 0 0 1 0 0 1 0 0 \u001b[1m\u001b[33m0\u001b[0m \u001b[1m\u001b[33m0\u001b[0m \u001b[1m\u001b[33m1\u001b[0m \u001b[1m\u001b[33m1\u001b[0m \u001b[1m\u001b[33m0\u001b[0m \u001b[1m\u001b[33m0\u001b[0m 0 0 \n",
      "1200            accuracy:\t0.984375         \t\t0 1 0 1 1 1 0 1 1 1 1 0 1 0 1 0 1 0 0 1 \u001b[1m\u001b[33m0\u001b[0m \u001b[1m\u001b[33m0\u001b[0m \u001b[1m\u001b[33m1\u001b[0m \u001b[1m\u001b[33m1\u001b[0m \u001b[1m\u001b[33m0\u001b[0m \u001b[1m\u001b[33m0\u001b[0m 1 1 1 0 1 0 \n",
      "1100            accuracy:\t1.0              \t\t1 0 0 1 1 1 1 1 0 0 1 0 1 0 1 1 0 0 1 1 1 0 1 0 0 1 \u001b[1m\u001b[33m0\u001b[0m \u001b[1m\u001b[33m0\u001b[0m \u001b[1m\u001b[33m1\u001b[0m \u001b[1m\u001b[33m1\u001b[0m \u001b[1m\u001b[33m0\u001b[0m \u001b[1m\u001b[33m0\u001b[0m \n",
      "1000            accuracy:\t1.0              \t\t1 0 0 1 \u001b[1m\u001b[33m0\u001b[0m \u001b[1m\u001b[33m0\u001b[0m \u001b[1m\u001b[33m1\u001b[0m \u001b[1m\u001b[33m1\u001b[0m \u001b[1m\u001b[33m0\u001b[0m \u001b[1m\u001b[33m0\u001b[0m 0 1 0 1 0 1 1 1 1 0 1 1 1 0 0 1 0 1 1 1 1 0 \n",
      "900             accuracy:\t1.0              \t\t0 0 \u001b[1m\u001b[33m0\u001b[0m \u001b[1m\u001b[33m0\u001b[0m \u001b[1m\u001b[33m1\u001b[0m \u001b[1m\u001b[33m1\u001b[0m \u001b[1m\u001b[33m0\u001b[0m \u001b[1m\u001b[33m0\u001b[0m 0 0 1 0 0 1 1 0 1 0 0 1 0 0 0 1 1 1 1 0 0 0 1 0 \n",
      "800             accuracy:\t1.0              \t\t1 0 1 1 1 0 1 0 0 0 \u001b[1m\u001b[33m0\u001b[0m 0 \u001b[1m\u001b[33m1\u001b[0m 1 \u001b[1m\u001b[33m0\u001b[0m 0 1 0 \u001b[1m\u001b[33m0\u001b[0m 1 1 \u001b[1m\u001b[33m0\u001b[0m \u001b[1m\u001b[33m0\u001b[0m 1 1 1 0 1 1 0 1 1 \n",
      "700             accuracy:\t1.0              \t\t0 1 1 0 0 \u001b[1m\u001b[33m0\u001b[0m \u001b[1m\u001b[33m0\u001b[0m \u001b[1m\u001b[33m1\u001b[0m \u001b[1m\u001b[33m1\u001b[0m \u001b[1m\u001b[33m0\u001b[0m \u001b[1m\u001b[33m0\u001b[0m 0 1 0 0 1 1 0 1 0 1 1 1 1 0 0 1 1 0 1 1 0 \n",
      "600             accuracy:\t1.0              \t\t1 1 1 1 0 1 1 1 \u001b[1m\u001b[33m0\u001b[0m \u001b[1m\u001b[33m0\u001b[0m \u001b[1m\u001b[33m1\u001b[0m 1 \u001b[1m\u001b[33m0\u001b[0m \u001b[1m\u001b[33m0\u001b[0m 0 1 1 1 \u001b[1m\u001b[33m0\u001b[0m 0 1 1 0 1 1 1 1 1 0 1 1 0 \n",
      "500             accuracy:\t1.0              \t\t1 \u001b[1m\u001b[33m0\u001b[0m \u001b[1m\u001b[33m0\u001b[0m \u001b[1m\u001b[33m1\u001b[0m \u001b[1m\u001b[33m1\u001b[0m \u001b[1m\u001b[33m0\u001b[0m \u001b[1m\u001b[33m0\u001b[0m 1 1 1 1 0 0 1 1 1 1 0 0 1 0 1 1 0 0 1 1 1 0 1 1 0 \n",
      "400             accuracy:\t1.0              \t\t0 1 0 1 \u001b[1m\u001b[33m0\u001b[0m \u001b[1m\u001b[33m0\u001b[0m 1 1 \u001b[1m\u001b[33m0\u001b[0m \u001b[1m\u001b[33m0\u001b[0m 1 0 0 1 0 \u001b[1m\u001b[33m0\u001b[0m 1 1 \u001b[1m\u001b[33m0\u001b[0m 0 1 0 0 0 0 0 0 1 1 0 1 1 \n",
      "300             accuracy:\t1.0              \t\t0 1 1 1 1 0 1 0 0 0 0 0 0 \u001b[1m\u001b[33m0\u001b[0m 0 1 1 \u001b[1m\u001b[33m0\u001b[0m 0 0 1 1 \u001b[1m\u001b[33m0\u001b[0m \u001b[1m\u001b[33m0\u001b[0m 1 1 \u001b[1m\u001b[33m0\u001b[0m \u001b[1m\u001b[33m0\u001b[0m 0 1 1 0 \n",
      "200             accuracy:\t1.0              \t\t1 0 0 0 1 \u001b[1m\u001b[33m0\u001b[0m \u001b[1m\u001b[33m0\u001b[0m 1 \u001b[1m\u001b[33m1\u001b[0m \u001b[1m\u001b[33m0\u001b[0m \u001b[1m\u001b[33m0\u001b[0m 0 0 0 1 0 0 1 0 0 0 1 0 \u001b[1m\u001b[33m0\u001b[0m 0 1 0 0 0 1 0 0 \n",
      "100             accuracy:\t1.0              \t\t1 0 0 1 0 1 \u001b[1m\u001b[33m0\u001b[0m \u001b[1m\u001b[33m0\u001b[0m \u001b[1m\u001b[33m1\u001b[0m \u001b[1m\u001b[33m1\u001b[0m \u001b[1m\u001b[33m0\u001b[0m \u001b[1m\u001b[33m0\u001b[0m 1 0 1 0 1 1 0 1 1 0 1 1 0 0 1 1 1 1 1 0 \n",
      "0               accuracy:\t1.0              \t\t1 1 1 1 1 0 0 \u001b[1m\u001b[33m0\u001b[0m \u001b[1m\u001b[33m0\u001b[0m \u001b[1m\u001b[33m1\u001b[0m \u001b[1m\u001b[33m1\u001b[0m \u001b[1m\u001b[33m0\u001b[0m \u001b[1m\u001b[33m0\u001b[0m 1 0 1 0 0 1 0 0 1 1 0 1 1 1 0 0 0 0 0 \n"
     ]
    }
   ],
   "source": [
    "model = BinaryLSTMClassifier(length, model_scale=.2)\n",
    "model.fit(pattern_discrimination_data_generator, epochs=5000, callbacks=[LogBinaryDiscoveryData(model, topk=len(pattern), frequency=100)])"
   ]
  },
  {
   "cell_type": "markdown",
   "metadata": {},
   "source": [
    "## Convolutions"
   ]
  },
  {
   "cell_type": "code",
   "execution_count": 9,
   "metadata": {},
   "outputs": [
    {
     "name": "stdout",
     "output_type": "stream",
     "text": [
      "4900            accuracy:\t0.703125         \t\t0 1 1 1 1 1 1 1 0 0 \u001b[1m\u001b[33m0\u001b[0m 0 1 1 0 0 1 1 \u001b[1m\u001b[33m0\u001b[0m \u001b[1m\u001b[33m0\u001b[0m 1 \u001b[1m\u001b[33m0\u001b[0m \u001b[1m\u001b[33m0\u001b[0m 1 1 \u001b[1m\u001b[33m0\u001b[0m 1 1 1 1 0 0 \n",
      "4800            accuracy:\t0.515625         \t\t1 0 1 1 1 1 1 \u001b[1m\u001b[33m0\u001b[0m 1 0 1 \u001b[1m\u001b[33m0\u001b[0m 1 1 1 1 1 1 1 1 \u001b[1m\u001b[33m0\u001b[0m 1 0 \u001b[1m\u001b[33m0\u001b[0m 1 1 \u001b[1m\u001b[33m0\u001b[0m \u001b[1m\u001b[33m0\u001b[0m 0 1 0 1 \n",
      "4700            accuracy:\t0.6875           \t\t1 1 0 1 0 0 0 \u001b[1m\u001b[33m0\u001b[0m \u001b[1m\u001b[33m0\u001b[0m 1 1 \u001b[1m\u001b[33m0\u001b[0m \u001b[1m\u001b[33m0\u001b[0m 1 0 \u001b[1m\u001b[33m0\u001b[0m 0 0 0 0 \u001b[1m\u001b[33m0\u001b[0m 0 1 1 0 1 1 0 0 1 1 1 \n",
      "4600            accuracy:\t0.765625         \t\t0 1 1 1 0 1 1 1 0 0 1 0 1 1 1 1 1 \u001b[1m\u001b[33m0\u001b[0m \u001b[1m\u001b[33m0\u001b[0m \u001b[1m\u001b[33m0\u001b[0m 1 1 \u001b[1m\u001b[33m0\u001b[0m \u001b[1m\u001b[33m0\u001b[0m \u001b[1m\u001b[33m0\u001b[0m 1 1 1 0 0 1 1 \n",
      "4500            accuracy:\t0.75             \t\t1 0 1 0 \u001b[1m\u001b[33m0\u001b[0m \u001b[1m\u001b[33m0\u001b[0m 1 1 \u001b[1m\u001b[33m0\u001b[0m \u001b[1m\u001b[33m0\u001b[0m 0 1 0 1 1 1 1 1 0 0 1 1 1 \u001b[1m\u001b[33m0\u001b[0m \u001b[1m\u001b[33m0\u001b[0m 1 1 1 0 1 0 1 \n",
      "4400            accuracy:\t0.6875           \t\t0 0 1 1 \u001b[1m\u001b[33m0\u001b[0m \u001b[1m\u001b[33m0\u001b[0m \u001b[1m\u001b[33m0\u001b[0m 1 1 0 1 1 1 1 0 \u001b[1m\u001b[33m0\u001b[0m \u001b[1m\u001b[33m0\u001b[0m \u001b[1m\u001b[33m0\u001b[0m 1 1 0 1 0 0 1 0 1 1 0 0 0 0 \n",
      "4300            accuracy:\t0.78125          \t\t1 1 1 1 1 0 1 1 \u001b[1m\u001b[33m0\u001b[0m 0 1 0 \u001b[1m\u001b[33m0\u001b[0m 0 0 1 0 1 0 0 1 0 1 0 \u001b[1m\u001b[33m0\u001b[0m \u001b[1m\u001b[33m0\u001b[0m 1 1 \u001b[1m\u001b[33m0\u001b[0m \u001b[1m\u001b[33m0\u001b[0m 1 1 \n",
      "4200            accuracy:\t0.84375          \t\t0 0 1 1 0 0 1 0 1 1 \u001b[1m\u001b[33m0\u001b[0m 1 1 \u001b[1m\u001b[33m0\u001b[0m \u001b[1m\u001b[33m0\u001b[0m 1 1 \u001b[1m\u001b[33m0\u001b[0m \u001b[1m\u001b[33m0\u001b[0m 0 0 \u001b[1m\u001b[33m0\u001b[0m 0 1 0 1 0 0 1 0 1 0 \n",
      "4100            accuracy:\t0.734375         \t\t1 0 \u001b[1m\u001b[33m0\u001b[0m \u001b[1m\u001b[33m0\u001b[0m 1 1 \u001b[1m\u001b[33m0\u001b[0m \u001b[1m\u001b[33m0\u001b[0m 1 1 1 \u001b[1m\u001b[33m0\u001b[0m 0 1 0 \u001b[1m\u001b[33m0\u001b[0m 1 0 1 1 1 0 1 0 1 1 1 0 1 1 1 0 \n",
      "4000            accuracy:\t0.78125          \t\t1 1 1 1 1 1 0 1 0 1 0 1 1 \u001b[1m\u001b[33m0\u001b[0m \u001b[1m\u001b[33m0\u001b[0m 1 1 \u001b[1m\u001b[33m0\u001b[0m \u001b[1m\u001b[33m0\u001b[0m 1 \u001b[1m\u001b[33m0\u001b[0m \u001b[1m\u001b[33m0\u001b[0m 1 0 1 1 1 0 1 0 0 1 \n",
      "3900            accuracy:\t0.6875           \t\t1 0 1 1 1 \u001b[1m\u001b[33m0\u001b[0m 0 0 0 1 1 1 1 0 1 1 1 0 1 \u001b[1m\u001b[33m0\u001b[0m \u001b[1m\u001b[33m0\u001b[0m 1 0 \u001b[1m\u001b[33m0\u001b[0m 0 1 \u001b[1m\u001b[33m0\u001b[0m \u001b[1m\u001b[33m0\u001b[0m 1 1 0 0 \n",
      "3800            accuracy:\t0.75             \t\t0 \u001b[1m\u001b[33m0\u001b[0m 0 1 1 \u001b[1m\u001b[33m0\u001b[0m \u001b[1m\u001b[33m0\u001b[0m 1 0 \u001b[1m\u001b[33m0\u001b[0m 0 1 \u001b[1m\u001b[33m0\u001b[0m \u001b[1m\u001b[33m0\u001b[0m 1 1 1 0 0 0 0 0 1 0 1 1 1 1 1 1 0 0 \n",
      "3700            accuracy:\t0.71875          \t\t0 1 1 0 1 0 1 0 0 \u001b[1m\u001b[33m0\u001b[0m 0 1 0 \u001b[1m\u001b[33m0\u001b[0m 0 \u001b[1m\u001b[33m0\u001b[0m 1 1 \u001b[1m\u001b[33m0\u001b[0m \u001b[1m\u001b[33m0\u001b[0m 1 0 \u001b[1m\u001b[33m0\u001b[0m 0 0 1 0 0 0 1 1 1 \n",
      "3600            accuracy:\t0.8125           \t\t0 0 0 0 1 1 \u001b[1m\u001b[33m0\u001b[0m \u001b[1m\u001b[33m0\u001b[0m 0 1 0 \u001b[1m\u001b[33m0\u001b[0m 0 1 0 \u001b[1m\u001b[33m0\u001b[0m 1 1 1 1 0 0 0 0 0 \u001b[1m\u001b[33m0\u001b[0m \u001b[1m\u001b[33m0\u001b[0m 1 1 0 0 0 \n",
      "3500            accuracy:\t0.78125          \t\t1 0 0 1 1 0 1 1 0 1 0 \u001b[1m\u001b[33m0\u001b[0m 1 1 \u001b[1m\u001b[33m0\u001b[0m \u001b[1m\u001b[33m0\u001b[0m 1 0 \u001b[1m\u001b[33m0\u001b[0m \u001b[1m\u001b[33m0\u001b[0m 0 1 0 \u001b[1m\u001b[33m0\u001b[0m 1 1 1 1 0 0 1 1 \n",
      "3400            accuracy:\t0.703125         \t\t1 0 0 1 0 1 1 1 1 1 0 1 0 \u001b[1m\u001b[33m0\u001b[0m \u001b[1m\u001b[33m0\u001b[0m \u001b[1m\u001b[33m0\u001b[0m \u001b[1m\u001b[33m0\u001b[0m 1 1 \u001b[1m\u001b[33m0\u001b[0m \u001b[1m\u001b[33m0\u001b[0m 1 1 1 1 1 1 0 1 0 1 0 \n",
      "3300            accuracy:\t0.703125         \t\t0 1 1 0 1 0 0 1 1 1 1 0 1 \u001b[1m\u001b[33m0\u001b[0m \u001b[1m\u001b[33m0\u001b[0m 1 1 \u001b[1m\u001b[33m0\u001b[0m \u001b[1m\u001b[33m0\u001b[0m 1 1 \u001b[1m\u001b[33m0\u001b[0m \u001b[1m\u001b[33m0\u001b[0m 1 1 1 1 1 1 0 1 1 \n",
      "3200            accuracy:\t0.734375         \t\t1 0 0 0 \u001b[1m\u001b[33m0\u001b[0m \u001b[1m\u001b[33m0\u001b[0m 1 1 \u001b[1m\u001b[33m0\u001b[0m \u001b[1m\u001b[33m0\u001b[0m 0 1 0 1 1 \u001b[1m\u001b[33m0\u001b[0m \u001b[1m\u001b[33m0\u001b[0m 0 1 0 0 1 1 1 1 1 1 0 1 1 1 0 \n",
      "3100            accuracy:\t0.78125          \t\t0 1 0 1 1 1 1 0 \u001b[1m\u001b[33m0\u001b[0m 0 0 \u001b[1m\u001b[33m0\u001b[0m 0 1 1 0 1 1 0 1 1 1 1 \u001b[1m\u001b[33m0\u001b[0m \u001b[1m\u001b[33m0\u001b[0m 1 1 \u001b[1m\u001b[33m0\u001b[0m \u001b[1m\u001b[33m0\u001b[0m 0 0 1 \n",
      "3000            accuracy:\t0.796875         \t\t0 0 1 1 1 0 1 \u001b[1m\u001b[33m0\u001b[0m \u001b[1m\u001b[33m0\u001b[0m 1 1 \u001b[1m\u001b[33m0\u001b[0m \u001b[1m\u001b[33m0\u001b[0m 1 \u001b[1m\u001b[33m0\u001b[0m \u001b[1m\u001b[33m0\u001b[0m 1 0 0 1 1 1 0 0 1 0 1 1 0 1 0 1 \n",
      "2900            accuracy:\t0.859375         \t\t1 0 1 1 1 1 1 0 \u001b[1m\u001b[33m0\u001b[0m \u001b[1m\u001b[33m0\u001b[0m 1 1 \u001b[1m\u001b[33m0\u001b[0m \u001b[1m\u001b[33m0\u001b[0m 0 1 0 \u001b[1m\u001b[33m0\u001b[0m 0 0 \u001b[1m\u001b[33m0\u001b[0m 0 1 0 0 1 1 0 1 0 0 0 \n",
      "2800            accuracy:\t0.65625          \t\t0 0 1 0 1 1 1 1 1 \u001b[1m\u001b[33m0\u001b[0m \u001b[1m\u001b[33m0\u001b[0m \u001b[1m\u001b[33m0\u001b[0m 1 1 \u001b[1m\u001b[33m0\u001b[0m \u001b[1m\u001b[33m0\u001b[0m \u001b[1m\u001b[33m0\u001b[0m 1 1 1 0 1 0 0 1 1 1 1 1 1 0 1 \n",
      "2700            accuracy:\t0.78125          \t\t1 1 1 1 1 0 1 1 1 0 0 0 0 \u001b[1m\u001b[33m0\u001b[0m 0 1 0 \u001b[1m\u001b[33m0\u001b[0m 0 0 \u001b[1m\u001b[33m0\u001b[0m \u001b[1m\u001b[33m0\u001b[0m 1 1 \u001b[1m\u001b[33m0\u001b[0m 0 1 0 \u001b[1m\u001b[33m0\u001b[0m 1 1 0 \n",
      "2600            accuracy:\t0.703125         \t\t1 0 1 1 0 0 1 1 0 1 0 0 1 0 \u001b[1m\u001b[33m0\u001b[0m \u001b[1m\u001b[33m0\u001b[0m 1 1 \u001b[1m\u001b[33m0\u001b[0m \u001b[1m\u001b[33m0\u001b[0m 1 \u001b[1m\u001b[33m0\u001b[0m \u001b[1m\u001b[33m0\u001b[0m 1 1 0 1 0 0 0 0 0 \n",
      "2500            accuracy:\t0.75             \t\t0 0 1 1 1 1 \u001b[1m\u001b[33m0\u001b[0m 1 0 1 0 \u001b[1m\u001b[33m0\u001b[0m \u001b[1m\u001b[33m0\u001b[0m 1 1 \u001b[1m\u001b[33m0\u001b[0m \u001b[1m\u001b[33m0\u001b[0m \u001b[1m\u001b[33m0\u001b[0m 1 1 1 1 1 0 0 1 1 1 0 1 0 1 \n",
      "2400            accuracy:\t0.734375         \t\t1 0 0 0 \u001b[1m\u001b[33m0\u001b[0m 0 1 0 0 0 0 1 1 1 0 \u001b[1m\u001b[33m0\u001b[0m 1 1 0 0 \u001b[1m\u001b[33m0\u001b[0m 0 1 1 \u001b[1m\u001b[33m0\u001b[0m \u001b[1m\u001b[33m0\u001b[0m \u001b[1m\u001b[33m0\u001b[0m 1 1 0 0 0 \n",
      "2300            accuracy:\t0.71875          \t\t0 1 0 1 0 0 0 1 1 1 0 0 0 \u001b[1m\u001b[33m0\u001b[0m \u001b[1m\u001b[33m0\u001b[0m 1 1 \u001b[1m\u001b[33m0\u001b[0m \u001b[1m\u001b[33m0\u001b[0m 0 1 \u001b[1m\u001b[33m0\u001b[0m \u001b[1m\u001b[33m0\u001b[0m 1 1 0 0 1 0 1 1 1 \n",
      "2200            accuracy:\t0.75             \t\t0 \u001b[1m\u001b[33m0\u001b[0m 0 1 1 \u001b[1m\u001b[33m0\u001b[0m \u001b[1m\u001b[33m0\u001b[0m \u001b[1m\u001b[33m0\u001b[0m 1 1 1 0 0 1 0 1 \u001b[1m\u001b[33m0\u001b[0m 0 1 0 \u001b[1m\u001b[33m0\u001b[0m 0 1 0 1 1 0 1 0 1 1 1 \n",
      "2100            accuracy:\t0.734375         \t\t1 \u001b[1m\u001b[33m0\u001b[0m \u001b[1m\u001b[33m0\u001b[0m 1 1 \u001b[1m\u001b[33m0\u001b[0m \u001b[1m\u001b[33m0\u001b[0m 1 0 1 1 1 0 1 0 \u001b[1m\u001b[33m0\u001b[0m 0 0 0 0 \u001b[1m\u001b[33m0\u001b[0m 0 1 1 1 1 0 1 0 1 1 0 \n",
      "2000            accuracy:\t0.734375         \t\t1 0 0 1 0 1 0 1 1 0 0 0 1 1 1 0 0 0 \u001b[1m\u001b[33m0\u001b[0m 0 1 \u001b[1m\u001b[33m0\u001b[0m \u001b[1m\u001b[33m0\u001b[0m 1 1 \u001b[1m\u001b[33m0\u001b[0m \u001b[1m\u001b[33m0\u001b[0m 0 1 0 \u001b[1m\u001b[33m0\u001b[0m 0 \n",
      "1900            accuracy:\t0.78125          \t\t0 \u001b[1m\u001b[33m0\u001b[0m 1 1 \u001b[1m\u001b[33m0\u001b[0m \u001b[1m\u001b[33m0\u001b[0m 0 1 \u001b[1m\u001b[33m0\u001b[0m \u001b[1m\u001b[33m0\u001b[0m 1 1 1 0 1 0 \u001b[1m\u001b[33m0\u001b[0m 0 1 0 1 1 0 1 0 1 1 0 1 0 0 1 \n",
      "1800            accuracy:\t0.71875          \t\t1 1 1 0 1 1 1 0 1 \u001b[1m\u001b[33m0\u001b[0m \u001b[1m\u001b[33m0\u001b[0m 1 1 \u001b[1m\u001b[33m0\u001b[0m \u001b[1m\u001b[33m0\u001b[0m 1 1 1 0 1 0 1 1 \u001b[1m\u001b[33m0\u001b[0m \u001b[1m\u001b[33m0\u001b[0m 1 1 1 0 1 1 1 \n",
      "1700            accuracy:\t0.703125         \t\t0 0 0 0 \u001b[1m\u001b[33m0\u001b[0m 0 1 \u001b[1m\u001b[33m0\u001b[0m 0 1 0 1 0 1 0 0 0 1 1 1 1 1 0 \u001b[1m\u001b[33m0\u001b[0m \u001b[1m\u001b[33m0\u001b[0m 1 1 \u001b[1m\u001b[33m0\u001b[0m \u001b[1m\u001b[33m0\u001b[0m 1 1 0 \n",
      "1600            accuracy:\t0.78125          \t\t0 0 1 0 1 1 1 \u001b[1m\u001b[33m0\u001b[0m \u001b[1m\u001b[33m0\u001b[0m 1 1 \u001b[1m\u001b[33m0\u001b[0m \u001b[1m\u001b[33m0\u001b[0m 1 1 \u001b[1m\u001b[33m0\u001b[0m 1 1 1 1 0 0 1 1 \u001b[1m\u001b[33m0\u001b[0m 1 1 1 1 0 1 1 \n",
      "1500            accuracy:\t0.734375         \t\t0 1 1 0 0 1 0 \u001b[1m\u001b[33m0\u001b[0m \u001b[1m\u001b[33m0\u001b[0m 1 1 \u001b[1m\u001b[33m0\u001b[0m 0 1 \u001b[1m\u001b[33m0\u001b[0m \u001b[1m\u001b[33m0\u001b[0m 1 0 \u001b[1m\u001b[33m0\u001b[0m 0 0 1 0 1 1 0 1 0 0 1 0 0 \n",
      "1400            accuracy:\t0.6875           \t\t1 0 1 0 0 1 0 0 1 1 0 1 1 1 \u001b[1m\u001b[33m0\u001b[0m \u001b[1m\u001b[33m0\u001b[0m 1 0 \u001b[1m\u001b[33m0\u001b[0m 0 0 0 \u001b[1m\u001b[33m0\u001b[0m \u001b[1m\u001b[33m0\u001b[0m 1 1 \u001b[1m\u001b[33m0\u001b[0m 0 0 0 0 0 \n",
      "1300            accuracy:\t0.8125           \t\t0 0 \u001b[1m\u001b[33m0\u001b[0m 0 1 0 \u001b[1m\u001b[33m0\u001b[0m 0 1 0 1 0 0 0 1 0 1 1 1 0 0 1 1 \u001b[1m\u001b[33m0\u001b[0m \u001b[1m\u001b[33m0\u001b[0m 1 1 \u001b[1m\u001b[33m0\u001b[0m \u001b[1m\u001b[33m0\u001b[0m 0 0 1 \n",
      "1200            accuracy:\t0.703125         \t\t1 1 1 1 0 1 0 1 \u001b[1m\u001b[33m0\u001b[0m \u001b[1m\u001b[33m0\u001b[0m 1 1 \u001b[1m\u001b[33m0\u001b[0m \u001b[1m\u001b[33m0\u001b[0m 0 1 1 1 1 0 \u001b[1m\u001b[33m0\u001b[0m 0 1 1 \u001b[1m\u001b[33m0\u001b[0m 1 1 0 0 1 0 0 \n",
      "1100            accuracy:\t0.796875         \t\t0 0 1 0 1 0 \u001b[1m\u001b[33m0\u001b[0m 0 1 1 0 1 0 1 1 0 1 1 0 1 0 1 1 \u001b[1m\u001b[33m0\u001b[0m \u001b[1m\u001b[33m0\u001b[0m \u001b[1m\u001b[33m0\u001b[0m \u001b[1m\u001b[33m0\u001b[0m 1 1 \u001b[1m\u001b[33m0\u001b[0m 0 0 \n",
      "1000            accuracy:\t0.828125         \t\t0 0 0 1 1 1 1 1 0 1 0 0 0 0 \u001b[1m\u001b[33m0\u001b[0m 0 \u001b[1m\u001b[33m0\u001b[0m \u001b[1m\u001b[33m0\u001b[0m 1 1 \u001b[1m\u001b[33m0\u001b[0m \u001b[1m\u001b[33m0\u001b[0m 1 0 \u001b[1m\u001b[33m0\u001b[0m 1 0 0 1 1 1 1 \n",
      "900             accuracy:\t0.796875         \t\t1 1 1 0 1 \u001b[1m\u001b[33m0\u001b[0m \u001b[1m\u001b[33m0\u001b[0m 1 0 \u001b[1m\u001b[33m0\u001b[0m 0 1 1 1 1 1 1 0 0 \u001b[1m\u001b[33m0\u001b[0m \u001b[1m\u001b[33m0\u001b[0m 1 1 \u001b[1m\u001b[33m0\u001b[0m 0 1 0 1 1 1 1 0 \n",
      "800             accuracy:\t0.828125         \t\t0 1 0 0 0 \u001b[1m\u001b[33m0\u001b[0m 0 1 1 1 0 1 0 1 1 1 0 0 \u001b[1m\u001b[33m0\u001b[0m 0 1 \u001b[1m\u001b[33m0\u001b[0m \u001b[1m\u001b[33m0\u001b[0m 1 1 \u001b[1m\u001b[33m0\u001b[0m \u001b[1m\u001b[33m0\u001b[0m 1 0 1 1 0 \n",
      "700             accuracy:\t0.8125           \t\t1 0 0 1 \u001b[1m\u001b[33m0\u001b[0m 0 1 0 \u001b[1m\u001b[33m0\u001b[0m 1 0 1 1 1 0 1 0 1 0 \u001b[1m\u001b[33m0\u001b[0m 1 1 \u001b[1m\u001b[33m0\u001b[0m \u001b[1m\u001b[33m0\u001b[0m 0 \u001b[1m\u001b[33m0\u001b[0m 0 1 0 0 1 1 \n",
      "600             accuracy:\t0.734375         \t\t0 1 0 1 0 1 1 1 1 0 1 0 1 0 \u001b[1m\u001b[33m0\u001b[0m 0 1 0 \u001b[1m\u001b[33m0\u001b[0m 0 1 1 1 1 \u001b[1m\u001b[33m0\u001b[0m \u001b[1m\u001b[33m0\u001b[0m 1 1 \u001b[1m\u001b[33m0\u001b[0m \u001b[1m\u001b[33m0\u001b[0m 0 0 \n",
      "500             accuracy:\t0.71875          \t\t1 1 1 1 1 1 1 1 1 0 \u001b[1m\u001b[33m0\u001b[0m 0 1 0 \u001b[1m\u001b[33m0\u001b[0m \u001b[1m\u001b[33m0\u001b[0m 0 0 0 0 \u001b[1m\u001b[33m0\u001b[0m \u001b[1m\u001b[33m0\u001b[0m 1 1 \u001b[1m\u001b[33m0\u001b[0m 0 1 0 1 0 1 1 \n",
      "400             accuracy:\t0.78125          \t\t1 1 1 1 1 1 1 1 1 1 0 0 \u001b[1m\u001b[33m0\u001b[0m 0 1 1 \u001b[1m\u001b[33m0\u001b[0m \u001b[1m\u001b[33m0\u001b[0m 1 0 1 0 0 1 0 \u001b[1m\u001b[33m0\u001b[0m 1 \u001b[1m\u001b[33m0\u001b[0m \u001b[1m\u001b[33m0\u001b[0m 1 1 0 \n",
      "300             accuracy:\t0.765625         \t\t1 1 0 1 0 1 0 0 0 \u001b[1m\u001b[33m0\u001b[0m 0 1 0 \u001b[1m\u001b[33m0\u001b[0m 0 1 1 \u001b[1m\u001b[33m0\u001b[0m \u001b[1m\u001b[33m0\u001b[0m 1 1 \u001b[1m\u001b[33m0\u001b[0m \u001b[1m\u001b[33m0\u001b[0m 0 0 1 0 1 1 1 1 1 \n",
      "200             accuracy:\t0.65625          \t\t1 1 1 1 0 1 1 0 1 1 1 1 1 0 1 1 1 0 \u001b[1m\u001b[33m0\u001b[0m 0 \u001b[1m\u001b[33m0\u001b[0m \u001b[1m\u001b[33m0\u001b[0m 0 1 0 \u001b[1m\u001b[33m0\u001b[0m \u001b[1m\u001b[33m0\u001b[0m 1 1 \u001b[1m\u001b[33m0\u001b[0m 0 0 \n",
      "100             accuracy:\t0.734375         \t\t1 0 0 0 1 0 \u001b[1m\u001b[33m0\u001b[0m 0 1 \u001b[1m\u001b[33m0\u001b[0m \u001b[1m\u001b[33m0\u001b[0m 0 1 0 0 1 \u001b[1m\u001b[33m0\u001b[0m \u001b[1m\u001b[33m0\u001b[0m 1 1 \u001b[1m\u001b[33m0\u001b[0m 0 1 1 0 0 0 0 1 1 1 1 \n",
      "0               accuracy:\t0.703125         \t\t1 0 1 0 1 \u001b[1m\u001b[33m0\u001b[0m \u001b[1m\u001b[33m0\u001b[0m 1 1 0 \u001b[1m\u001b[33m0\u001b[0m 1 1 1 1 \u001b[1m\u001b[33m0\u001b[0m 0 1 0 \u001b[1m\u001b[33m0\u001b[0m 0 \u001b[1m\u001b[33m0\u001b[0m 0 1 1 0 1 0 0 1 1 0 \n"
     ]
    }
   ],
   "source": [
    "model = BinaryConvolutionalClassifier(length, model_scale=.2)\n",
    "model.fit(pattern_discrimination_data_generator, epochs=5000, callbacks=[LogBinaryDiscoveryData(model, topk=len(pattern), frequency=100)])"
   ]
  },
  {
   "cell_type": "code",
   "execution_count": null,
   "metadata": {},
   "outputs": [],
   "source": []
  }
 ],
 "metadata": {
  "kernelspec": {
   "display_name": "Python 3",
   "language": "python",
   "name": "python3"
  },
  "language_info": {
   "codemirror_mode": {
    "name": "ipython",
    "version": 3
   },
   "file_extension": ".py",
   "mimetype": "text/x-python",
   "name": "python",
   "nbconvert_exporter": "python",
   "pygments_lexer": "ipython3",
   "version": "3.12.7"
  }
 },
 "nbformat": 4,
 "nbformat_minor": 2
}
