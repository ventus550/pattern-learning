{
 "cells": [
  {
   "cell_type": "code",
   "execution_count": 1,
   "metadata": {},
   "outputs": [
    {
     "name": "stderr",
     "output_type": "stream",
     "text": [
      "Seed set to 23826\n"
     ]
    },
    {
     "name": "stdout",
     "output_type": "stream",
     "text": [
      "Device set to cuda\n"
     ]
    }
   ],
   "source": [
    "from utils import configure_environment\n",
    "configure_environment()\n"
   ]
  },
  {
   "cell_type": "code",
   "execution_count": null,
   "metadata": {},
   "outputs": [],
   "source": [
    "import torch\n",
    "from models import BinaryLSTMAttentionClassifier\n",
    "import numpy as np\n",
    "import random"
   ]
  },
  {
   "cell_type": "code",
   "execution_count": 3,
   "metadata": {},
   "outputs": [],
   "source": [
    "subsequence = [0, 0, 1, 1, 0, 0, 1, 1, 0, 0, 1, 1]\n",
    "length = 24\n",
    "\n",
    "\n",
    "def has_subsequence(sequence):\n",
    "    i = 0\n",
    "    for char in sequence:\n",
    "        i += i < len(subsequence) and char == subsequence[i]\n",
    "        if i == len(subsequence):\n",
    "            return True\n",
    "    return False\n",
    "\n",
    "\n",
    "# super slow on torch tensors\n",
    "def subsequence_discrimination_data_generator(batch_size=64, low=length, high=length):\n",
    "    X = np.random.randint(0, 2, (batch_size, random.randint(low, high)))\n",
    "    Y = torch.tensor([has_subsequence(x) for x in X])\n",
    "    return torch.tensor(X), Y\n",
    "\n",
    "\n",
    "# subsequence_discrimination_data_generator(batch_size=1000)[1].argmax(dim=0).sum()  # aim for about an even label split"
   ]
  },
  {
   "cell_type": "code",
   "execution_count": null,
   "metadata": {},
   "outputs": [
    {
     "name": "stdout",
     "output_type": "stream",
     "text": [
      "4900            accuracy:\t0.53125          \t\t1 \u001b[1m\u001b[33m0\u001b[0m \u001b[1m\u001b[33m0\u001b[0m 1 \u001b[1m\u001b[33m0\u001b[0m 1 1 \u001b[1m\u001b[33m0\u001b[0m 1 1 \u001b[1m\u001b[33m0\u001b[0m 1 1 1 1 \u001b[1m\u001b[33m0\u001b[0m 1 \u001b[1m\u001b[33m0\u001b[0m \u001b[1m\u001b[33m0\u001b[0m 1 \u001b[1m\u001b[33m0\u001b[0m \u001b[1m\u001b[33m1\u001b[0m \u001b[1m\u001b[33m0\u001b[0m \u001b[1m\u001b[33m1\u001b[0m \n",
      "4800            accuracy:\t0.625            \t\t1 \u001b[1m\u001b[33m0\u001b[0m 1 1 1 1 \u001b[1m\u001b[33m0\u001b[0m \u001b[1m\u001b[33m0\u001b[0m \u001b[1m\u001b[33m0\u001b[0m \u001b[1m\u001b[33m0\u001b[0m 1 \u001b[1m\u001b[33m1\u001b[0m \u001b[1m\u001b[33m0\u001b[0m 0 \u001b[1m\u001b[33m1\u001b[0m \u001b[1m\u001b[33m1\u001b[0m 0 \u001b[1m\u001b[33m1\u001b[0m 0 0 \u001b[1m\u001b[33m1\u001b[0m 0 \u001b[1m\u001b[33m1\u001b[0m 0 \n",
      "4700            accuracy:\t0.640625         \t\t\u001b[1m\u001b[33m0\u001b[0m \u001b[1m\u001b[33m0\u001b[0m 1 1 \u001b[1m\u001b[33m0\u001b[0m 1 1 \u001b[1m\u001b[33m0\u001b[0m 1 1 \u001b[1m\u001b[33m0\u001b[0m 1 1 \u001b[1m\u001b[33m0\u001b[0m 1 \u001b[1m\u001b[33m0\u001b[0m 1 \u001b[1m\u001b[33m0\u001b[0m 1 \u001b[1m\u001b[33m0\u001b[0m 0 \u001b[1m\u001b[33m1\u001b[0m \u001b[1m\u001b[33m1\u001b[0m \u001b[1m\u001b[33m1\u001b[0m \n",
      "4600            accuracy:\t0.8125           \t\t\u001b[1m\u001b[33m0\u001b[0m 1 \u001b[1m\u001b[33m0\u001b[0m 1 1 \u001b[1m\u001b[33m0\u001b[0m \u001b[1m\u001b[33m0\u001b[0m 1 1 \u001b[1m\u001b[33m0\u001b[0m 1 \u001b[1m\u001b[33m0\u001b[0m 1 1 \u001b[1m\u001b[33m0\u001b[0m 1 1 \u001b[1m\u001b[33m0\u001b[0m \u001b[1m\u001b[33m0\u001b[0m 1 \u001b[1m\u001b[33m1\u001b[0m \u001b[1m\u001b[33m1\u001b[0m \u001b[1m\u001b[33m1\u001b[0m 0 \n",
      "4500            accuracy:\t0.765625         \t\t1 \u001b[1m\u001b[33m0\u001b[0m 0 \u001b[1m\u001b[33m1\u001b[0m 0 0 \u001b[1m\u001b[33m1\u001b[0m 0 0 \u001b[1m\u001b[33m1\u001b[0m \u001b[1m\u001b[33m0\u001b[0m 1 1 1 0 \u001b[1m\u001b[33m1\u001b[0m 0 \u001b[1m\u001b[33m1\u001b[0m \u001b[1m\u001b[33m0\u001b[0m \u001b[1m\u001b[33m0\u001b[0m 1 \u001b[1m\u001b[33m1\u001b[0m \u001b[1m\u001b[33m1\u001b[0m \u001b[1m\u001b[33m1\u001b[0m \n",
      "4400            accuracy:\t0.703125         \t\t\u001b[1m\u001b[33m0\u001b[0m 1 1 \u001b[1m\u001b[33m0\u001b[0m 0 \u001b[1m\u001b[33m1\u001b[0m \u001b[1m\u001b[33m1\u001b[0m \u001b[1m\u001b[33m0\u001b[0m 1 1 \u001b[1m\u001b[33m0\u001b[0m 1 \u001b[1m\u001b[33m1\u001b[0m \u001b[1m\u001b[33m1\u001b[0m 0 \u001b[1m\u001b[33m0\u001b[0m 0 \u001b[1m\u001b[33m1\u001b[0m \u001b[1m\u001b[33m1\u001b[0m 0 0 0 0 \u001b[1m\u001b[33m1\u001b[0m \n",
      "4300            accuracy:\t0.875            \t\t1 \u001b[1m\u001b[33m0\u001b[0m 1 \u001b[1m\u001b[33m0\u001b[0m \u001b[1m\u001b[33m1\u001b[0m \u001b[1m\u001b[33m1\u001b[0m 0 0 \u001b[1m\u001b[33m1\u001b[0m 1 1 \u001b[1m\u001b[33m0\u001b[0m 1 1 1 1 \u001b[1m\u001b[33m0\u001b[0m \u001b[1m\u001b[33m1\u001b[0m \u001b[1m\u001b[33m0\u001b[0m 0 1 \u001b[1m\u001b[33m1\u001b[0m \u001b[1m\u001b[33m1\u001b[0m \u001b[1m\u001b[33m1\u001b[0m \n",
      "4200            accuracy:\t0.953125         \t\t1 1 1 1 0 0 0 \u001b[1m\u001b[33m1\u001b[0m \u001b[1m\u001b[33m0\u001b[0m 1 1 1 \u001b[1m\u001b[33m0\u001b[0m 1 \u001b[1m\u001b[33m0\u001b[0m \u001b[1m\u001b[33m1\u001b[0m \u001b[1m\u001b[33m0\u001b[0m \u001b[1m\u001b[33m1\u001b[0m 1 \u001b[1m\u001b[33m0\u001b[0m \u001b[1m\u001b[33m0\u001b[0m \u001b[1m\u001b[33m1\u001b[0m \u001b[1m\u001b[33m1\u001b[0m \u001b[1m\u001b[33m1\u001b[0m \n",
      "4100            accuracy:\t0.890625         \t\t\u001b[1m\u001b[33m0\u001b[0m 1 \u001b[1m\u001b[33m0\u001b[0m \u001b[1m\u001b[33m1\u001b[0m \u001b[1m\u001b[33m0\u001b[0m 1 1 1 1 \u001b[1m\u001b[33m0\u001b[0m \u001b[1m\u001b[33m0\u001b[0m 0 \u001b[1m\u001b[33m1\u001b[0m 0 \u001b[1m\u001b[33m1\u001b[0m \u001b[1m\u001b[33m0\u001b[0m 1 1 \u001b[1m\u001b[33m0\u001b[0m 1 \u001b[1m\u001b[33m1\u001b[0m 0 \u001b[1m\u001b[33m1\u001b[0m 0 \n",
      "4000            accuracy:\t0.90625          \t\t\u001b[1m\u001b[33m0\u001b[0m 1 \u001b[1m\u001b[33m0\u001b[0m \u001b[1m\u001b[33m1\u001b[0m \u001b[1m\u001b[33m1\u001b[0m \u001b[1m\u001b[33m0\u001b[0m \u001b[1m\u001b[33m0\u001b[0m \u001b[1m\u001b[33m1\u001b[0m \u001b[1m\u001b[33m1\u001b[0m 0 0 0 0 \u001b[1m\u001b[33m1\u001b[0m \u001b[1m\u001b[33m1\u001b[0m \u001b[1m\u001b[33m0\u001b[0m 1 1 0 0 0 \u001b[1m\u001b[33m1\u001b[0m 0 0 \n",
      "3900            accuracy:\t0.90625          \t\t\u001b[1m\u001b[33m0\u001b[0m 1 \u001b[1m\u001b[33m0\u001b[0m \u001b[1m\u001b[33m1\u001b[0m 0 0 \u001b[1m\u001b[33m0\u001b[0m 1 \u001b[1m\u001b[33m0\u001b[0m 1 \u001b[1m\u001b[33m0\u001b[0m 0 0 \u001b[1m\u001b[33m1\u001b[0m 0 0 0 \u001b[1m\u001b[33m1\u001b[0m \u001b[1m\u001b[33m0\u001b[0m 1 1 \u001b[1m\u001b[33m0\u001b[0m \u001b[1m\u001b[33m1\u001b[0m \u001b[1m\u001b[33m1\u001b[0m \n",
      "3800            accuracy:\t0.953125         \t\t1 1 \u001b[1m\u001b[33m0\u001b[0m 1 1 \u001b[1m\u001b[33m0\u001b[0m \u001b[1m\u001b[33m0\u001b[0m 1 1 \u001b[1m\u001b[33m0\u001b[0m 0 0 \u001b[1m\u001b[33m1\u001b[0m 0 0 \u001b[1m\u001b[33m1\u001b[0m 1 \u001b[1m\u001b[33m0\u001b[0m \u001b[1m\u001b[33m0\u001b[0m \u001b[1m\u001b[33m1\u001b[0m \u001b[1m\u001b[33m0\u001b[0m 0 \u001b[1m\u001b[33m1\u001b[0m \u001b[1m\u001b[33m1\u001b[0m \n",
      "3700            accuracy:\t1.0              \t\t\u001b[1m\u001b[33m0\u001b[0m 1 \u001b[1m\u001b[33m0\u001b[0m 1 0 0 1 1 \u001b[1m\u001b[33m1\u001b[0m \u001b[1m\u001b[33m0\u001b[0m \u001b[1m\u001b[33m0\u001b[0m 0 \u001b[1m\u001b[33m1\u001b[0m \u001b[1m\u001b[33m1\u001b[0m 0 1 1 \u001b[1m\u001b[33m0\u001b[0m 1 1 \u001b[1m\u001b[33m0\u001b[0m \u001b[1m\u001b[33m1\u001b[0m \u001b[1m\u001b[33m1\u001b[0m \u001b[1m\u001b[33m1\u001b[0m \n",
      "3600            accuracy:\t1.0              \t\t\u001b[1m\u001b[33m0\u001b[0m \u001b[1m\u001b[33m0\u001b[0m 1 1 \u001b[1m\u001b[33m1\u001b[0m 1 \u001b[1m\u001b[33m0\u001b[0m \u001b[1m\u001b[33m1\u001b[0m \u001b[1m\u001b[33m0\u001b[0m 1 \u001b[1m\u001b[33m1\u001b[0m 1 1 \u001b[1m\u001b[33m0\u001b[0m 0 0 \u001b[1m\u001b[33m1\u001b[0m \u001b[1m\u001b[33m0\u001b[0m 0 1 0 \u001b[1m\u001b[33m1\u001b[0m 0 \u001b[1m\u001b[33m1\u001b[0m \n",
      "3500            accuracy:\t1.0              \t\t\u001b[1m\u001b[33m0\u001b[0m 1 \u001b[1m\u001b[33m0\u001b[0m \u001b[1m\u001b[33m1\u001b[0m \u001b[1m\u001b[33m1\u001b[0m \u001b[1m\u001b[33m0\u001b[0m \u001b[1m\u001b[33m1\u001b[0m 1 1 \u001b[1m\u001b[33m0\u001b[0m 1 1 1 1 1 \u001b[1m\u001b[33m0\u001b[0m 0 \u001b[1m\u001b[33m1\u001b[0m 0 \u001b[1m\u001b[33m0\u001b[0m 0 0 \u001b[1m\u001b[33m1\u001b[0m \u001b[1m\u001b[33m1\u001b[0m \n",
      "3400            accuracy:\t1.0              \t\t1 \u001b[1m\u001b[33m0\u001b[0m \u001b[1m\u001b[33m0\u001b[0m \u001b[1m\u001b[33m0\u001b[0m \u001b[1m\u001b[33m1\u001b[0m \u001b[1m\u001b[33m1\u001b[0m \u001b[1m\u001b[33m0\u001b[0m \u001b[1m\u001b[33m1\u001b[0m 0 0 0 \u001b[1m\u001b[33m1\u001b[0m 0 1 1 1 1 1 \u001b[1m\u001b[33m0\u001b[0m \u001b[1m\u001b[33m0\u001b[0m \u001b[1m\u001b[33m1\u001b[0m \u001b[1m\u001b[33m1\u001b[0m 0 0 \n",
      "3300            accuracy:\t0.953125         \t\t\u001b[1m\u001b[33m0\u001b[0m \u001b[1m\u001b[33m0\u001b[0m 1 1 1 1 \u001b[1m\u001b[33m1\u001b[0m \u001b[1m\u001b[33m1\u001b[0m 0 \u001b[1m\u001b[33m0\u001b[0m 0 0 0 \u001b[1m\u001b[33m1\u001b[0m \u001b[1m\u001b[33m1\u001b[0m 0 \u001b[1m\u001b[33m0\u001b[0m 1 \u001b[1m\u001b[33m0\u001b[0m 1 \u001b[1m\u001b[33m0\u001b[0m 1 \u001b[1m\u001b[33m1\u001b[0m \u001b[1m\u001b[33m1\u001b[0m \n",
      "3200            accuracy:\t1.0              \t\t\u001b[1m\u001b[33m0\u001b[0m \u001b[1m\u001b[33m0\u001b[0m \u001b[1m\u001b[33m0\u001b[0m 1 \u001b[1m\u001b[33m1\u001b[0m 1 1 1 1 1 \u001b[1m\u001b[33m0\u001b[0m 0 0 \u001b[1m\u001b[33m1\u001b[0m 0 \u001b[1m\u001b[33m0\u001b[0m \u001b[1m\u001b[33m1\u001b[0m 1 1 1 \u001b[1m\u001b[33m0\u001b[0m \u001b[1m\u001b[33m0\u001b[0m \u001b[1m\u001b[33m1\u001b[0m \u001b[1m\u001b[33m1\u001b[0m \n",
      "3100            accuracy:\t1.0              \t\t1 1 1 1 \u001b[1m\u001b[33m0\u001b[0m 1 \u001b[1m\u001b[33m1\u001b[0m \u001b[1m\u001b[33m1\u001b[0m \u001b[1m\u001b[33m0\u001b[0m 1 \u001b[1m\u001b[33m0\u001b[0m 1 \u001b[1m\u001b[33m1\u001b[0m \u001b[1m\u001b[33m0\u001b[0m 1 \u001b[1m\u001b[33m0\u001b[0m 1 1 1 \u001b[1m\u001b[33m0\u001b[0m 1 \u001b[1m\u001b[33m0\u001b[0m \u001b[1m\u001b[33m1\u001b[0m \u001b[1m\u001b[33m1\u001b[0m \n",
      "3000            accuracy:\t1.0              \t\t1 1 1 \u001b[1m\u001b[33m0\u001b[0m \u001b[1m\u001b[33m1\u001b[0m \u001b[1m\u001b[33m1\u001b[0m \u001b[1m\u001b[33m0\u001b[0m \u001b[1m\u001b[33m0\u001b[0m 1 1 1 1 1 1 \u001b[1m\u001b[33m0\u001b[0m \u001b[1m\u001b[33m0\u001b[0m 1 \u001b[1m\u001b[33m1\u001b[0m 1 \u001b[1m\u001b[33m0\u001b[0m \u001b[1m\u001b[33m0\u001b[0m \u001b[1m\u001b[33m1\u001b[0m \u001b[1m\u001b[33m1\u001b[0m 0 \n",
      "2900            accuracy:\t0.984375         \t\t\u001b[1m\u001b[33m0\u001b[0m 1 \u001b[1m\u001b[33m0\u001b[0m \u001b[1m\u001b[33m1\u001b[0m 0 0 0 \u001b[1m\u001b[33m1\u001b[0m \u001b[1m\u001b[33m0\u001b[0m \u001b[1m\u001b[33m0\u001b[0m 1 1 1 1 1 \u001b[1m\u001b[33m0\u001b[0m 1 \u001b[1m\u001b[33m0\u001b[0m \u001b[1m\u001b[33m0\u001b[0m \u001b[1m\u001b[33m1\u001b[0m \u001b[1m\u001b[33m1\u001b[0m 0 0 \u001b[1m\u001b[33m1\u001b[0m \n",
      "2800            accuracy:\t1.0              \t\t\u001b[1m\u001b[33m0\u001b[0m \u001b[1m\u001b[33m0\u001b[0m \u001b[1m\u001b[33m1\u001b[0m 0 \u001b[1m\u001b[33m1\u001b[0m 0 0 \u001b[1m\u001b[33m0\u001b[0m \u001b[1m\u001b[33m0\u001b[0m \u001b[1m\u001b[33m1\u001b[0m \u001b[1m\u001b[33m1\u001b[0m 0 \u001b[1m\u001b[33m1\u001b[0m 0 0 0 \u001b[1m\u001b[33m1\u001b[0m \u001b[1m\u001b[33m0\u001b[0m 1 \u001b[1m\u001b[33m0\u001b[0m 1 0 0 0 \n",
      "2700            accuracy:\t1.0              \t\t1 \u001b[1m\u001b[33m0\u001b[0m 1 \u001b[1m\u001b[33m0\u001b[0m \u001b[1m\u001b[33m1\u001b[0m 0 \u001b[1m\u001b[33m1\u001b[0m 0 0 0 \u001b[1m\u001b[33m0\u001b[0m \u001b[1m\u001b[33m1\u001b[0m 1 0 \u001b[1m\u001b[33m1\u001b[0m 1 \u001b[1m\u001b[33m0\u001b[0m \u001b[1m\u001b[33m0\u001b[0m 1 1 1 \u001b[1m\u001b[33m1\u001b[0m \u001b[1m\u001b[33m1\u001b[0m \u001b[1m\u001b[33m1\u001b[0m \n",
      "2600            accuracy:\t1.0              \t\t1 \u001b[1m\u001b[33m0\u001b[0m 1 0 0 0 \u001b[1m\u001b[33m1\u001b[0m \u001b[1m\u001b[33m0\u001b[0m \u001b[1m\u001b[33m1\u001b[0m \u001b[1m\u001b[33m0\u001b[0m 1 1 \u001b[1m\u001b[33m0\u001b[0m \u001b[1m\u001b[33m1\u001b[0m 0 0 \u001b[1m\u001b[33m1\u001b[0m \u001b[1m\u001b[33m0\u001b[0m 1 1 \u001b[1m\u001b[33m0\u001b[0m \u001b[1m\u001b[33m1\u001b[0m 0 \u001b[1m\u001b[33m1\u001b[0m \n",
      "2500            accuracy:\t1.0              \t\t\u001b[1m\u001b[33m0\u001b[0m 1 \u001b[1m\u001b[33m0\u001b[0m \u001b[1m\u001b[33m1\u001b[0m 0 \u001b[1m\u001b[33m1\u001b[0m 0 0 0 \u001b[1m\u001b[33m1\u001b[0m 1 0 1 \u001b[1m\u001b[33m0\u001b[0m \u001b[1m\u001b[33m1\u001b[0m 0 0 \u001b[1m\u001b[33m0\u001b[0m \u001b[1m\u001b[33m1\u001b[0m \u001b[1m\u001b[33m0\u001b[0m 0 \u001b[1m\u001b[33m1\u001b[0m 0 \u001b[1m\u001b[33m1\u001b[0m \n",
      "2400            accuracy:\t1.0              \t\t1 \u001b[1m\u001b[33m0\u001b[0m 1 \u001b[1m\u001b[33m0\u001b[0m \u001b[1m\u001b[33m1\u001b[0m \u001b[1m\u001b[33m1\u001b[0m \u001b[1m\u001b[33m0\u001b[0m 1 \u001b[1m\u001b[33m0\u001b[0m 1 \u001b[1m\u001b[33m1\u001b[0m \u001b[1m\u001b[33m0\u001b[0m 0 0 0 \u001b[1m\u001b[33m1\u001b[0m 0 0 1 \u001b[1m\u001b[33m0\u001b[0m \u001b[1m\u001b[33m1\u001b[0m 0 0 \u001b[1m\u001b[33m1\u001b[0m \n",
      "2300            accuracy:\t1.0              \t\t\u001b[1m\u001b[33m0\u001b[0m 1 1 0 0 0 \u001b[1m\u001b[33m1\u001b[0m 0 \u001b[1m\u001b[33m1\u001b[0m 0 \u001b[1m\u001b[33m0\u001b[0m \u001b[1m\u001b[33m0\u001b[0m \u001b[1m\u001b[33m1\u001b[0m \u001b[1m\u001b[33m1\u001b[0m 1 \u001b[1m\u001b[33m1\u001b[0m \u001b[1m\u001b[33m0\u001b[0m 1 \u001b[1m\u001b[33m0\u001b[0m 1 \u001b[1m\u001b[33m1\u001b[0m 0 0 \u001b[1m\u001b[33m1\u001b[0m \n",
      "2200            accuracy:\t1.0              \t\t\u001b[1m\u001b[33m0\u001b[0m 1 1 1 1 \u001b[1m\u001b[33m0\u001b[0m 1 \u001b[1m\u001b[33m1\u001b[0m 1 \u001b[1m\u001b[33m0\u001b[0m \u001b[1m\u001b[33m0\u001b[0m \u001b[1m\u001b[33m1\u001b[0m 0 \u001b[1m\u001b[33m1\u001b[0m 0 0 0 \u001b[1m\u001b[33m0\u001b[0m \u001b[1m\u001b[33m1\u001b[0m \u001b[1m\u001b[33m0\u001b[0m \u001b[1m\u001b[33m1\u001b[0m \u001b[1m\u001b[33m1\u001b[0m 0 0 \n",
      "2100            accuracy:\t1.0              \t\t\u001b[1m\u001b[33m0\u001b[0m \u001b[1m\u001b[33m0\u001b[0m 0 \u001b[1m\u001b[33m1\u001b[0m \u001b[1m\u001b[33m1\u001b[0m \u001b[1m\u001b[33m0\u001b[0m 1 1 \u001b[1m\u001b[33m0\u001b[0m \u001b[1m\u001b[33m0\u001b[0m \u001b[1m\u001b[33m1\u001b[0m \u001b[1m\u001b[33m1\u001b[0m 0 0 \u001b[1m\u001b[33m0\u001b[0m 1 1 1 1 1 1 \u001b[1m\u001b[33m1\u001b[0m \u001b[1m\u001b[33m1\u001b[0m 0 \n",
      "2000            accuracy:\t1.0              \t\t1 1 \u001b[1m\u001b[33m0\u001b[0m \u001b[1m\u001b[33m1\u001b[0m 0 0 \u001b[1m\u001b[33m1\u001b[0m 1 \u001b[1m\u001b[33m1\u001b[0m \u001b[1m\u001b[33m0\u001b[0m \u001b[1m\u001b[33m0\u001b[0m \u001b[1m\u001b[33m1\u001b[0m 0 0 0 \u001b[1m\u001b[33m1\u001b[0m 0 \u001b[1m\u001b[33m0\u001b[0m \u001b[1m\u001b[33m0\u001b[0m \u001b[1m\u001b[33m1\u001b[0m 0 0 0 \u001b[1m\u001b[33m1\u001b[0m \n",
      "1900            accuracy:\t1.0              \t\t\u001b[1m\u001b[33m0\u001b[0m \u001b[1m\u001b[33m0\u001b[0m \u001b[1m\u001b[33m0\u001b[0m \u001b[1m\u001b[33m0\u001b[0m 1 1 \u001b[1m\u001b[33m1\u001b[0m 1 \u001b[1m\u001b[33m0\u001b[0m \u001b[1m\u001b[33m0\u001b[0m 1 1 1 1 \u001b[1m\u001b[33m0\u001b[0m \u001b[1m\u001b[33m0\u001b[0m 1 1 1 \u001b[1m\u001b[33m0\u001b[0m 1 \u001b[1m\u001b[33m1\u001b[0m 0 \u001b[1m\u001b[33m1\u001b[0m \n",
      "1800            accuracy:\t1.0              \t\t\u001b[1m\u001b[33m0\u001b[0m \u001b[1m\u001b[33m0\u001b[0m \u001b[1m\u001b[33m1\u001b[0m \u001b[1m\u001b[33m0\u001b[0m 0 \u001b[1m\u001b[33m1\u001b[0m 0 \u001b[1m\u001b[33m0\u001b[0m 1 \u001b[1m\u001b[33m0\u001b[0m 1 1 1 1 1 \u001b[1m\u001b[33m0\u001b[0m 1 1 \u001b[1m\u001b[33m0\u001b[0m 1 1 \u001b[1m\u001b[33m0\u001b[0m \u001b[1m\u001b[33m1\u001b[0m \u001b[1m\u001b[33m1\u001b[0m \n",
      "1700            accuracy:\t1.0              \t\t\u001b[1m\u001b[33m0\u001b[0m \u001b[1m\u001b[33m0\u001b[0m 0 \u001b[1m\u001b[33m1\u001b[0m 0 0 0 1 1 \u001b[1m\u001b[33m0\u001b[0m \u001b[1m\u001b[33m0\u001b[0m 0 0 \u001b[1m\u001b[33m1\u001b[0m 0 0 \u001b[1m\u001b[33m1\u001b[0m \u001b[1m\u001b[33m0\u001b[0m 1 1 \u001b[1m\u001b[33m0\u001b[0m \u001b[1m\u001b[33m0\u001b[0m \u001b[1m\u001b[33m1\u001b[0m \u001b[1m\u001b[33m1\u001b[0m \n",
      "1600            accuracy:\t1.0              \t\t\u001b[1m\u001b[33m0\u001b[0m 1 \u001b[1m\u001b[33m0\u001b[0m 0 0 0 \u001b[1m\u001b[33m1\u001b[0m 0 0 \u001b[1m\u001b[33m1\u001b[0m \u001b[1m\u001b[33m0\u001b[0m \u001b[1m\u001b[33m0\u001b[0m 1 0 \u001b[1m\u001b[33m1\u001b[0m \u001b[1m\u001b[33m1\u001b[0m \u001b[1m\u001b[33m0\u001b[0m \u001b[1m\u001b[33m0\u001b[0m \u001b[1m\u001b[33m0\u001b[0m 1 1 1 \u001b[1m\u001b[33m1\u001b[0m 0 \n",
      "1500            accuracy:\t1.0              \t\t\u001b[1m\u001b[33m0\u001b[0m \u001b[1m\u001b[33m0\u001b[0m 1 1 \u001b[1m\u001b[33m1\u001b[0m 0 0 \u001b[1m\u001b[33m1\u001b[0m 0 \u001b[1m\u001b[33m0\u001b[0m \u001b[1m\u001b[33m0\u001b[0m \u001b[1m\u001b[33m1\u001b[0m 1 \u001b[1m\u001b[33m1\u001b[0m \u001b[1m\u001b[33m0\u001b[0m \u001b[1m\u001b[33m0\u001b[0m 1 0 \u001b[1m\u001b[33m1\u001b[0m 0 0 0 \u001b[1m\u001b[33m1\u001b[0m 0 \n",
      "1400            accuracy:\t1.0              \t\t\u001b[1m\u001b[33m0\u001b[0m \u001b[1m\u001b[33m0\u001b[0m \u001b[1m\u001b[33m0\u001b[0m 0 \u001b[1m\u001b[33m1\u001b[0m 1 1 1 1 1 \u001b[1m\u001b[33m0\u001b[0m 1 1 1 \u001b[1m\u001b[33m0\u001b[0m 0 \u001b[1m\u001b[33m1\u001b[0m 0 \u001b[1m\u001b[33m1\u001b[0m \u001b[1m\u001b[33m0\u001b[0m \u001b[1m\u001b[33m0\u001b[0m \u001b[1m\u001b[33m1\u001b[0m 0 \u001b[1m\u001b[33m1\u001b[0m \n",
      "1300            accuracy:\t1.0              \t\t\u001b[1m\u001b[33m0\u001b[0m 1 \u001b[1m\u001b[33m0\u001b[0m 1 1 \u001b[1m\u001b[33m1\u001b[0m \u001b[1m\u001b[33m0\u001b[0m \u001b[1m\u001b[33m1\u001b[0m \u001b[1m\u001b[33m0\u001b[0m 1 1 \u001b[1m\u001b[33m0\u001b[0m \u001b[1m\u001b[33m1\u001b[0m \u001b[1m\u001b[33m1\u001b[0m 0 0 0 \u001b[1m\u001b[33m0\u001b[0m 1 1 \u001b[1m\u001b[33m1\u001b[0m \u001b[1m\u001b[33m1\u001b[0m 0 0 \n",
      "1200            accuracy:\t1.0              \t\t\u001b[1m\u001b[33m0\u001b[0m 1 \u001b[1m\u001b[33m0\u001b[0m \u001b[1m\u001b[33m1\u001b[0m 0 0 0 0 0 \u001b[1m\u001b[33m1\u001b[0m 0 \u001b[1m\u001b[33m0\u001b[0m 0 \u001b[1m\u001b[33m1\u001b[0m \u001b[1m\u001b[33m1\u001b[0m \u001b[1m\u001b[33m1\u001b[0m \u001b[1m\u001b[33m0\u001b[0m \u001b[1m\u001b[33m0\u001b[0m 0 \u001b[1m\u001b[33m1\u001b[0m 0 0 0 \u001b[1m\u001b[33m1\u001b[0m \n",
      "1100            accuracy:\t1.0              \t\t\u001b[1m\u001b[33m0\u001b[0m \u001b[1m\u001b[33m0\u001b[0m 1 \u001b[1m\u001b[33m1\u001b[0m 0 0 \u001b[1m\u001b[33m1\u001b[0m 0 0 \u001b[1m\u001b[33m0\u001b[0m 1 1 0 \u001b[1m\u001b[33m0\u001b[0m \u001b[1m\u001b[33m1\u001b[0m \u001b[1m\u001b[33m1\u001b[0m \u001b[1m\u001b[33m1\u001b[0m 0 \u001b[1m\u001b[33m0\u001b[0m \u001b[1m\u001b[33m0\u001b[0m 1 1 1 \u001b[1m\u001b[33m1\u001b[0m \n",
      "1000            accuracy:\t1.0              \t\t\u001b[1m\u001b[33m0\u001b[0m 1 \u001b[1m\u001b[33m0\u001b[0m 0 \u001b[1m\u001b[33m1\u001b[0m 0 0 \u001b[1m\u001b[33m1\u001b[0m \u001b[1m\u001b[33m0\u001b[0m \u001b[1m\u001b[33m0\u001b[0m \u001b[1m\u001b[33m0\u001b[0m \u001b[1m\u001b[33m1\u001b[0m 0 0 \u001b[1m\u001b[33m1\u001b[0m \u001b[1m\u001b[33m0\u001b[0m \u001b[1m\u001b[33m0\u001b[0m 1 1 1 \u001b[1m\u001b[33m1\u001b[0m 0 0 0 \n",
      "900             accuracy:\t1.0              \t\t\u001b[1m\u001b[33m0\u001b[0m \u001b[1m\u001b[33m0\u001b[0m 1 \u001b[1m\u001b[33m0\u001b[0m \u001b[1m\u001b[33m1\u001b[0m 0 0 \u001b[1m\u001b[33m1\u001b[0m \u001b[1m\u001b[33m0\u001b[0m \u001b[1m\u001b[33m0\u001b[0m 1 1 1 0 \u001b[1m\u001b[33m1\u001b[0m 0 \u001b[1m\u001b[33m0\u001b[0m \u001b[1m\u001b[33m0\u001b[0m 1 \u001b[1m\u001b[33m1\u001b[0m \u001b[1m\u001b[33m1\u001b[0m 0 0 0 \n",
      "800             accuracy:\t1.0              \t\t1 1 1 1 1 1 1 1 1 \u001b[1m\u001b[33m0\u001b[0m \u001b[1m\u001b[33m0\u001b[0m \u001b[1m\u001b[33m1\u001b[0m 0 \u001b[1m\u001b[33m1\u001b[0m 1 \u001b[1m\u001b[33m0\u001b[0m \u001b[1m\u001b[33m0\u001b[0m \u001b[1m\u001b[33m1\u001b[0m \u001b[1m\u001b[33m1\u001b[0m \u001b[1m\u001b[33m0\u001b[0m \u001b[1m\u001b[33m0\u001b[0m \u001b[1m\u001b[33m1\u001b[0m \u001b[1m\u001b[33m1\u001b[0m 0 \n",
      "700             accuracy:\t1.0              \t\t1 \u001b[1m\u001b[33m0\u001b[0m 0 \u001b[1m\u001b[33m0\u001b[0m \u001b[1m\u001b[33m1\u001b[0m \u001b[1m\u001b[33m1\u001b[0m \u001b[1m\u001b[33m1\u001b[0m \u001b[1m\u001b[33m0\u001b[0m \u001b[1m\u001b[33m0\u001b[0m \u001b[1m\u001b[33m1\u001b[0m 1 \u001b[1m\u001b[33m1\u001b[0m \u001b[1m\u001b[33m0\u001b[0m 1 \u001b[1m\u001b[33m0\u001b[0m 1 1 1 1 1 0 0 0 \u001b[1m\u001b[33m1\u001b[0m \n",
      "600             accuracy:\t1.0              \t\t\u001b[1m\u001b[33m0\u001b[0m \u001b[1m\u001b[33m0\u001b[0m 1 \u001b[1m\u001b[33m1\u001b[0m 1 \u001b[1m\u001b[33m0\u001b[0m \u001b[1m\u001b[33m1\u001b[0m \u001b[1m\u001b[33m0\u001b[0m \u001b[1m\u001b[33m1\u001b[0m \u001b[1m\u001b[33m1\u001b[0m 0 0 0 1 \u001b[1m\u001b[33m1\u001b[0m \u001b[1m\u001b[33m1\u001b[0m 0 \u001b[1m\u001b[33m0\u001b[0m 0 \u001b[1m\u001b[33m1\u001b[0m 0 0 0 0 \n",
      "500             accuracy:\t1.0              \t\t1 \u001b[1m\u001b[33m0\u001b[0m 1 \u001b[1m\u001b[33m0\u001b[0m 1 \u001b[1m\u001b[33m0\u001b[0m \u001b[1m\u001b[33m1\u001b[0m 1 1 \u001b[1m\u001b[33m0\u001b[0m 1 \u001b[1m\u001b[33m0\u001b[0m \u001b[1m\u001b[33m0\u001b[0m 0 \u001b[1m\u001b[33m1\u001b[0m 0 0 0 \u001b[1m\u001b[33m1\u001b[0m 0 \u001b[1m\u001b[33m0\u001b[0m 0 \u001b[1m\u001b[33m1\u001b[0m \u001b[1m\u001b[33m1\u001b[0m \n",
      "400             accuracy:\t1.0              \t\t\u001b[1m\u001b[33m0\u001b[0m \u001b[1m\u001b[33m0\u001b[0m \u001b[1m\u001b[33m0\u001b[0m \u001b[1m\u001b[33m1\u001b[0m \u001b[1m\u001b[33m1\u001b[0m 0 0 \u001b[1m\u001b[33m0\u001b[0m \u001b[1m\u001b[33m0\u001b[0m 1 \u001b[1m\u001b[33m1\u001b[0m \u001b[1m\u001b[33m1\u001b[0m \u001b[1m\u001b[33m0\u001b[0m 1 1 \u001b[1m\u001b[33m0\u001b[0m 1 1 1 \u001b[1m\u001b[33m0\u001b[0m 0 0 0 0 \n",
      "300             accuracy:\t1.0              \t\t1 1 \u001b[1m\u001b[33m0\u001b[0m 1 \u001b[1m\u001b[33m0\u001b[0m \u001b[1m\u001b[33m1\u001b[0m 1 \u001b[1m\u001b[33m1\u001b[0m 1 1 \u001b[1m\u001b[33m0\u001b[0m 1 \u001b[1m\u001b[33m0\u001b[0m \u001b[1m\u001b[33m1\u001b[0m \u001b[1m\u001b[33m1\u001b[0m 1 \u001b[1m\u001b[33m0\u001b[0m 1 \u001b[1m\u001b[33m0\u001b[0m \u001b[1m\u001b[33m1\u001b[0m 1 \u001b[1m\u001b[33m1\u001b[0m 0 0 \n",
      "200             accuracy:\t1.0              \t\t\u001b[1m\u001b[33m0\u001b[0m 1 \u001b[1m\u001b[33m0\u001b[0m 1 \u001b[1m\u001b[33m1\u001b[0m \u001b[1m\u001b[33m1\u001b[0m 0 0 0 0 0 0 0 \u001b[1m\u001b[33m1\u001b[0m \u001b[1m\u001b[33m1\u001b[0m \u001b[1m\u001b[33m1\u001b[0m \u001b[1m\u001b[33m0\u001b[0m 0 0 \u001b[1m\u001b[33m0\u001b[0m \u001b[1m\u001b[33m1\u001b[0m \u001b[1m\u001b[33m1\u001b[0m 0 \u001b[1m\u001b[33m1\u001b[0m \n",
      "100             accuracy:\t1.0              \t\t\u001b[1m\u001b[33m0\u001b[0m \u001b[1m\u001b[33m0\u001b[0m 1 \u001b[1m\u001b[33m1\u001b[0m 0 \u001b[1m\u001b[33m1\u001b[0m 0 0 \u001b[1m\u001b[33m0\u001b[0m 1 1 1 \u001b[1m\u001b[33m0\u001b[0m \u001b[1m\u001b[33m0\u001b[0m \u001b[1m\u001b[33m1\u001b[0m 0 0 0 \u001b[1m\u001b[33m1\u001b[0m \u001b[1m\u001b[33m0\u001b[0m \u001b[1m\u001b[33m1\u001b[0m \u001b[1m\u001b[33m1\u001b[0m 0 0 \n",
      "0               accuracy:\t1.0              \t\t1 \u001b[1m\u001b[33m0\u001b[0m \u001b[1m\u001b[33m0\u001b[0m \u001b[1m\u001b[33m0\u001b[0m \u001b[1m\u001b[33m1\u001b[0m \u001b[1m\u001b[33m0\u001b[0m 1 1 1 1 \u001b[1m\u001b[33m0\u001b[0m 0 0 0 \u001b[1m\u001b[33m1\u001b[0m \u001b[1m\u001b[33m1\u001b[0m 1 \u001b[1m\u001b[33m0\u001b[0m \u001b[1m\u001b[33m0\u001b[0m 1 \u001b[1m\u001b[33m1\u001b[0m 0 \u001b[1m\u001b[33m1\u001b[0m 0 \n"
     ]
    }
   ],
   "source": [
    "from callbacks import LogBinaryDiscoveryData\n",
    "\n",
    "model = BinaryLSTMAttentionClassifier(length, model_scale=1)\n",
    "model.fit(subsequence_discrimination_data_generator, epochs=5000, callbacks=[LogBinaryDiscoveryData(model, topk=len(subsequence), frequency=100)])"
   ]
  },
  {
   "cell_type": "code",
   "execution_count": null,
   "metadata": {},
   "outputs": [],
   "source": []
  },
  {
   "cell_type": "code",
   "execution_count": null,
   "metadata": {},
   "outputs": [],
   "source": []
  }
 ],
 "metadata": {
  "kernelspec": {
   "display_name": "Python 3",
   "language": "python",
   "name": "python3"
  },
  "language_info": {
   "codemirror_mode": {
    "name": "ipython",
    "version": 3
   },
   "file_extension": ".py",
   "mimetype": "text/x-python",
   "name": "python",
   "nbconvert_exporter": "python",
   "pygments_lexer": "ipython3",
   "version": "3.12.7"
  }
 },
 "nbformat": 4,
 "nbformat_minor": 2
}
